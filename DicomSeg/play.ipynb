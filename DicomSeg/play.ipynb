{
 "cells": [
  {
   "cell_type": "markdown",
   "metadata": {},
   "source": [
    "# Dicom seg test\n",
    "\n",
    "Voglio aggiungere al container il check sul json che viene creato e un check sul file dicom"
   ]
  },
  {
   "cell_type": "code",
   "execution_count": 6,
   "metadata": {},
   "outputs": [],
   "source": [
    "import pydicom\n",
    "import os"
   ]
  },
  {
   "cell_type": "code",
   "execution_count": 22,
   "metadata": {},
   "outputs": [],
   "source": [
    "def checkSlicesDicom(directory):\n",
    "    \"\"\"\n",
    "    Checks for the presence and continuity of DICOM slices in a given directory.\n",
    "\n",
    "    This function iterates over all files in the specified directory, attempts to read\n",
    "    them as DICOM files, and extracts the 'InstanceNumber' (or 'SliceLocation' if \n",
    "    'InstanceNumber' is not available) for each file. It then checks whether the slice\n",
    "    numbers are consecutive and reports any missing slices.\n",
    "\n",
    "    Parameters:\n",
    "    -----------\n",
    "    directory : str\n",
    "        The path to the directory containing DICOM files to be checked.\n",
    "\n",
    "    Returns:\n",
    "    --------\n",
    "    None\n",
    "        Prints a message indicating whether all slices are present and consecutive.\n",
    "        If slices are missing, the function prints a list of the missing slice numbers.\n",
    "\n",
    "    Raises:\n",
    "    -------\n",
    "    Exception:\n",
    "        If any file cannot be read as a DICOM file, an error message will be printed\n",
    "        indicating which file caused the issue.\n",
    "    \"\"\"\n",
    "    slices = []\n",
    "\n",
    "    for file_name in os.listdir(directory):\n",
    "        file_path = os.path.join(directory, file_name)\n",
    "        try:\n",
    "            ds = pydicom.dcmread(file_path)\n",
    "            if hasattr(ds, 'InstanceNumber'):\n",
    "                slices.append(ds.InstanceNumber)\n",
    "            elif hasattr(ds, 'SliceLocation'):\n",
    "                slices.append(ds.SliceLocation)\n",
    "        except Exception as e:\n",
    "            print(f\"Error reading  {file_name}: {e}\")\n",
    "    slices.sort()\n",
    "    missing_slices = []\n",
    "    for i in range(slices[0], slices[-1] + 1):\n",
    "        if i not in slices:\n",
    "            missing_slices.append(i)\n",
    "\n",
    "    if missing_slices:\n",
    "        print(f\"Miss the following slices: {missing_slices}\")\n",
    "    else:\n",
    "        print(\"All slices exist and are consecutive\")\n"
   ]
  },
  {
   "cell_type": "code",
   "execution_count": 23,
   "metadata": {},
   "outputs": [
    {
     "name": "stdout",
     "output_type": "stream",
     "text": [
      "All slices exist and are consecutive\n"
     ]
    }
   ],
   "source": [
    "checkSlicesDicom(path)"
   ]
  },
  {
   "cell_type": "markdown",
   "metadata": {},
   "source": [
    "---\n",
    "Check on json file\n",
    "\n",
    "Sistemo il controllo sul json in modo che sia più stringente e performi meglio "
   ]
  },
  {
   "cell_type": "code",
   "execution_count": 31,
   "metadata": {},
   "outputs": [],
   "source": [
    "import json\n",
    "import os\n"
   ]
  },
  {
   "cell_type": "code",
   "execution_count": 32,
   "metadata": {},
   "outputs": [],
   "source": [
    "def update_segment_algorithm_name(file_path):\n",
    "    \"\"\"\n",
    "    Updates the 'SegmentAlgorithmName' field in a JSON file for non-manual segments.\n",
    "\n",
    "    This function reads a JSON file, iterates through the 'segmentAttributes' list, \n",
    "    and checks each segment's 'SegmentAlgorithmType'. If the type is not 'MANUAL' \n",
    "    and the 'SegmentAlgorithmName' field is missing, it prompts the user to input \n",
    "    a value for 'SegmentAlgorithmName' for the corresponding segment.\n",
    "\n",
    "    After updating the segments, the modified JSON is saved back to the same file.\n",
    "\n",
    "    Parameters:\n",
    "    -----------\n",
    "    file_path : str\n",
    "        The path to the JSON file to be updated.\n",
    "\n",
    "    Returns:\n",
    "    --------\n",
    "    None\n",
    "        The function directly updates the JSON file and does not return any value.\n",
    "\n",
    "    Notes:\n",
    "    ------\n",
    "    - The function assumes that the 'segmentAttributes' field is a list of lists, \n",
    "      where each inner list contains dictionaries representing segments.\n",
    "    - The user is prompted to input the 'SegmentAlgorithmName' value for each segment \n",
    "      that is not 'MANUAL' and lacks a 'SegmentAlgorithmName'.\n",
    "    - The updated JSON file is written back with the same file name.\n",
    "    \"\"\"\n",
    "\n",
    "    with open(file_path, 'r') as file:\n",
    "        data = json.load(file)\n",
    "\n",
    "    for segment_list in data['segmentAttributes']:\n",
    "        for segment in segment_list:\n",
    "            if segment.get('SegmentAlgorithmType') != 'MANUAL':\n",
    "                if 'SegmentAlgorithmName' not in segment:\n",
    "                    segment['SegmentAlgorithmName'] = input(f\"Enter the SegmentAlgorithmName for the label ID {segment['labelID']}: \")\n",
    "\n",
    "    with open(file_path, 'w') as file:\n",
    "        json.dump(data, file, indent=2)\n"
   ]
  },
  {
   "cell_type": "code",
   "execution_count": 34,
   "metadata": {},
   "outputs": [],
   "source": [
    "file_path = \"DATA/EucaimShared/Test2/interobs05/dicomnifti/seg/meta.json\"\n",
    "update_segment_algorithm_name(file_path)"
   ]
  },
  {
   "cell_type": "code",
   "execution_count": 35,
   "metadata": {},
   "outputs": [],
   "source": [
    "\n",
    "MANDATORY_FIELDS = {\n",
    "    'SegmentDescription': None,\n",
    "    'SegmentAlgorithmType': None,\n",
    "    'SegmentedPropertyCategoryCodeSequence': ['CodeValue', 'CodingSchemeDesignator', 'CodeMeaning'],\n",
    "    'SegmentedPropertyTypeCodeSequence': ['CodeValue', 'CodingSchemeDesignator', 'CodeMeaning'],\n",
    "    'labelID': None\n",
    "}\n",
    "\n",
    "CONDITIONAL_FIELDS = {\n",
    "    'SegmentAlgorithmType': {\n",
    "        'conditions': lambda value: value != 'MANUAL',\n",
    "        'required_fields': ['SegmentAlgorithmName']\n",
    "    },\n",
    "    'SegmentType': {\n",
    "        'conditions': lambda value: value == 'TISSUE',\n",
    "        'required_fields': ['SegmentedPropertyTypeCodeSequence']\n",
    "    },\n",
    "    'SegmentedPropertyCategoryCodeSequence': {\n",
    "        'conditions': lambda value: isinstance(value, list) and len(value) > 0,\n",
    "        'required_subfields': ['CodeValue', 'CodingSchemeDesignator', 'CodeMeaning']\n",
    "    },\n",
    "    'SegmentedPropertyTypeCodeSequence': {\n",
    "        'conditions': lambda value: isinstance(value, list) and len(value) > 0,\n",
    "        'required_subfields': ['CodeValue', 'CodingSchemeDesignator', 'CodeMeaning']\n",
    "    }\n",
    "}\n",
    "\n",
    "def check_mandatory_fields(json_data):\n",
    "    \"\"\"\n",
    "    Verifica che tutti i campi obbligatori, inclusi eventuali sottocampi, siano presenti in ciascun segmento.\n",
    "    Gestisce anche la logica condizionale per i campi basata sui valori di altri campi.\n",
    "\n",
    "    Parameters:\n",
    "    -----------\n",
    "    json_data : dict\n",
    "        Il contenuto del file JSON già caricato.\n",
    "\n",
    "    Returns:\n",
    "    --------\n",
    "    bool\n",
    "        True se tutti i campi obbligatori sono presenti, False altrimenti.\n",
    "    \n",
    "    missing_fields : dict\n",
    "        Un dizionario che elenca i campi e sottocampi mancanti per ciascun segmento.\n",
    "    \"\"\"\n",
    "    missing_fields = {}\n",
    "\n",
    "    # Itera attraverso tutti i segmenti nel file JSON\n",
    "    for i, segment_list in enumerate(json_data.get('segmentAttributes', [])):\n",
    "        for j, segment in enumerate(segment_list):\n",
    "            segment_missing = []\n",
    "\n",
    "            # Verifica i campi obbligatori e i sottocampi\n",
    "            for field, subfields in MANDATORY_FIELDS.items():\n",
    "                if field not in segment:\n",
    "                    segment_missing.append(field)\n",
    "                elif subfields:  # Se ci sono sottocampi obbligatori\n",
    "                    if isinstance(segment[field], list) and len(segment[field]) > 0:\n",
    "                        sequence_item = segment[field][0]  # Considera il primo elemento della sequenza\n",
    "                        missing_subfields = [subfield for subfield in subfields if subfield not in sequence_item]\n",
    "                        if missing_subfields:\n",
    "                            segment_missing.append(f\"{field}: missing {missing_subfields}\")\n",
    "                    else:\n",
    "                        segment_missing.append(f\"{field}: expected a non-empty sequence\")\n",
    "            \n",
    "            # Verifica i campi condizionali complessi\n",
    "            for field, condition_info in CONDITIONAL_FIELDS.items():\n",
    "                if field in segment:\n",
    "                    # Se la condizione è soddisfatta, verifica i campi richiesti\n",
    "                    condition_met = condition_info['conditions'](segment[field])\n",
    "                    if condition_met:\n",
    "                        if 'required_fields' in condition_info:\n",
    "                            for required_field in condition_info['required_fields']:\n",
    "                                if required_field not in segment:\n",
    "                                    segment_missing.append(f\"Missing conditional field {required_field} due to {field} value\")\n",
    "                        # Verifica sottocampi condizionali, se presenti\n",
    "                        if 'required_subfields' in condition_info:\n",
    "                            if isinstance(segment[field], list) and len(segment[field]) > 0:\n",
    "                                sequence_item = segment[field][0]  # Controlla il primo elemento della sequenza\n",
    "                                for subfield in condition_info['required_subfields']:\n",
    "                                    if subfield not in sequence_item:\n",
    "                                        segment_missing.append(f\"{field}: missing subfield {subfield}\")\n",
    "                            else:\n",
    "                                segment_missing.append(f\"{field}: expected a non-empty sequence\")\n",
    "\n",
    "            if segment_missing:\n",
    "                missing_fields[f\"Segment {i + 1} (LabelID {segment.get('labelID', 'Unknown')})\"] = segment_missing\n",
    "\n",
    "    return len(missing_fields) == 0, missing_fields\n"
   ]
  },
  {
   "cell_type": "code",
   "execution_count": 36,
   "metadata": {},
   "outputs": [
    {
     "name": "stdout",
     "output_type": "stream",
     "text": [
      "Il file DATA/EucaimShared/Test2/interobs05/dicomnifti/seg/meta.json è mancante dei seguenti campi:\n",
      "  - Segment 1 (LabelID 1): ['SegmentedPropertyCategoryCodeSequence: expected a non-empty sequence', 'SegmentedPropertyTypeCodeSequence: expected a non-empty sequence']\n",
      "  - Segment 2 (LabelID 2): ['SegmentedPropertyCategoryCodeSequence: expected a non-empty sequence', 'SegmentedPropertyTypeCodeSequence: expected a non-empty sequence']\n",
      "  - Segment 3 (LabelID 3): ['SegmentedPropertyCategoryCodeSequence: expected a non-empty sequence', 'SegmentedPropertyTypeCodeSequence: expected a non-empty sequence']\n",
      "  - Segment 4 (LabelID 4): ['SegmentedPropertyCategoryCodeSequence: expected a non-empty sequence', 'SegmentedPropertyTypeCodeSequence: expected a non-empty sequence']\n",
      "  - Segment 5 (LabelID 5): ['SegmentedPropertyCategoryCodeSequence: expected a non-empty sequence', 'SegmentedPropertyTypeCodeSequence: expected a non-empty sequence']\n",
      "  - Segment 6 (LabelID 6): ['SegmentedPropertyCategoryCodeSequence: expected a non-empty sequence', 'SegmentedPropertyTypeCodeSequence: expected a non-empty sequence']\n",
      "  - Segment 7 (LabelID 7): ['SegmentedPropertyCategoryCodeSequence: expected a non-empty sequence', 'SegmentedPropertyTypeCodeSequence: expected a non-empty sequence']\n",
      "  - Segment 8 (LabelID 8): ['SegmentedPropertyCategoryCodeSequence: expected a non-empty sequence', 'SegmentedPropertyTypeCodeSequence: expected a non-empty sequence']\n",
      "  - Segment 9 (LabelID 9): ['SegmentedPropertyCategoryCodeSequence: expected a non-empty sequence', 'SegmentedPropertyTypeCodeSequence: expected a non-empty sequence']\n",
      "  - Segment 10 (LabelID 10): ['SegmentedPropertyCategoryCodeSequence: expected a non-empty sequence', 'SegmentedPropertyTypeCodeSequence: expected a non-empty sequence']\n"
     ]
    }
   ],
   "source": [
    "with open(file_path, 'r') as file:\n",
    "    data = json.load(file)\n",
    "\n",
    "all_fields_present, missing_fields = check_mandatory_fields(data)\n",
    "\n",
    "if all_fields_present:\n",
    "    print(f\"Il file {file_path} contiene tutti i campi obbligatori.\")\n",
    "else:\n",
    "    print(f\"Il file {file_path} è mancante dei seguenti campi:\")\n",
    "    for segment, fields in missing_fields.items():\n",
    "        print(f\"  - {segment}: {fields}\")"
   ]
  },
  {
   "cell_type": "code",
   "execution_count": 29,
   "metadata": {},
   "outputs": [
    {
     "name": "stdout",
     "output_type": "stream",
     "text": [
      "Il file DATA/EucaimShared/Test1/LUNG1-001/dicomnifti/seg/meta.json è mancante dei seguenti campi:\n",
      "  - Segment 1 (LabelID 1): ['SegmentedPropertyCategoryCodeSequence: expected a non-empty sequence', 'SegmentedPropertyTypeCodeSequence: expected a non-empty sequence']\n",
      "  - Segment 2 (LabelID 2): ['SegmentedPropertyCategoryCodeSequence: expected a non-empty sequence', 'SegmentedPropertyTypeCodeSequence: expected a non-empty sequence']\n",
      "  - Segment 3 (LabelID 3): ['SegmentedPropertyCategoryCodeSequence: expected a non-empty sequence', 'SegmentedPropertyTypeCodeSequence: expected a non-empty sequence']\n",
      "  - Segment 4 (LabelID 4): ['SegmentedPropertyCategoryCodeSequence: expected a non-empty sequence', 'SegmentedPropertyTypeCodeSequence: expected a non-empty sequence']\n"
     ]
    }
   ],
   "source": []
  }
 ],
 "metadata": {
  "kernelspec": {
   "display_name": "dicomseg",
   "language": "python",
   "name": "python3"
  },
  "language_info": {
   "codemirror_mode": {
    "name": "ipython",
    "version": 3
   },
   "file_extension": ".py",
   "mimetype": "text/x-python",
   "name": "python",
   "nbconvert_exporter": "python",
   "pygments_lexer": "ipython3",
   "version": "3.6.13"
  }
 },
 "nbformat": 4,
 "nbformat_minor": 2
}
